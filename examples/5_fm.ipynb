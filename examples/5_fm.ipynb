{
 "cells": [
  {
   "cell_type": "code",
   "execution_count": 1,
   "metadata": {},
   "outputs": [],
   "source": [
    "import os\n",
    "import sys\n",
    "\n",
    "repository_path = r\"/home/emmanuel/EQviewer\"  ##change this path where is located the main directory\n",
    "rep_data = os.path.join(\"..\",\"data\")\n",
    "rep_out = os.path.join(\"..\",\"outs\")\n",
    "sys.path.insert(0,repository_path)"
   ]
  },
  {
   "cell_type": "markdown",
   "metadata": {},
   "source": [
    "# Focal Mechanism\n",
    "In this nothebook, you will see some examples to manipulate the FM object. You also will learn how to use it to plot it in your map."
   ]
  },
  {
   "cell_type": "code",
   "execution_count": 3,
   "metadata": {},
   "outputs": [],
   "source": [
    "import pandas as pd\n",
    "from EQViewer.eqviewer import FM,BaseMeca"
   ]
  },
  {
   "cell_type": "markdown",
   "metadata": {},
   "source": [
    "fm object receives a dataframe as input. We are going to load focal mechanisms saved in [fm.csv](https://github.com/ecastillot/EQViewer/blob/master/data/mf/fm.csv) taken from [ISC: Focal Mechanism solutions](http://www.isc.ac.uk/cgi-bin/web-db-run?request=COMPREHENSIVE&out_format=FMCSV&searchshape=RECT&bot_lat=38.749&top_lat=38.88&left_lon=-122.9&right_lon=-122.76&ctr_lat=&ctr_lon=&radius=&max_dist_units=deg&srn=&grn=&start_year=2016&start_month=12&start_day=31&start_time=00%3A00%3A00&end_year=2021&end_month=1&end_day=01&end_time=00%3A00%3A00&min_dep=&max_dep=&min_mag=&max_mag=&req_mag_type=&req_mag_agcy=&req_fm_agcy=Any&include_links=on)."
   ]
  },
  {
   "cell_type": "code",
   "execution_count": 4,
   "metadata": {},
   "outputs": [
    {
     "data": {
      "text/html": [
       "<div>\n",
       "<style scoped>\n",
       "    .dataframe tbody tr th:only-of-type {\n",
       "        vertical-align: middle;\n",
       "    }\n",
       "\n",
       "    .dataframe tbody tr th {\n",
       "        vertical-align: top;\n",
       "    }\n",
       "\n",
       "    .dataframe thead th {\n",
       "        text-align: right;\n",
       "    }\n",
       "</style>\n",
       "<table border=\"1\" class=\"dataframe\">\n",
       "  <thead>\n",
       "    <tr style=\"text-align: right;\">\n",
       "      <th></th>\n",
       "      <th>latitude</th>\n",
       "      <th>longitude</th>\n",
       "      <th>depth</th>\n",
       "      <th>strike</th>\n",
       "      <th>dip</th>\n",
       "      <th>rake</th>\n",
       "      <th>magnitude</th>\n",
       "    </tr>\n",
       "  </thead>\n",
       "  <tbody>\n",
       "    <tr>\n",
       "      <th>0</th>\n",
       "      <td>38.8220</td>\n",
       "      <td>-122.8410</td>\n",
       "      <td>5.0</td>\n",
       "      <td>244.00</td>\n",
       "      <td>75.00</td>\n",
       "      <td>-7.00</td>\n",
       "      <td>4.0</td>\n",
       "    </tr>\n",
       "    <tr>\n",
       "      <th>1</th>\n",
       "      <td>38.8200</td>\n",
       "      <td>-122.8600</td>\n",
       "      <td>12.0</td>\n",
       "      <td>247.00</td>\n",
       "      <td>65.00</td>\n",
       "      <td>-12.00</td>\n",
       "      <td>5.1</td>\n",
       "    </tr>\n",
       "    <tr>\n",
       "      <th>2</th>\n",
       "      <td>38.8200</td>\n",
       "      <td>-122.8400</td>\n",
       "      <td>11.5</td>\n",
       "      <td>158.00</td>\n",
       "      <td>84.00</td>\n",
       "      <td>166.00</td>\n",
       "      <td>5.1</td>\n",
       "    </tr>\n",
       "    <tr>\n",
       "      <th>3</th>\n",
       "      <td>38.7877</td>\n",
       "      <td>-122.7780</td>\n",
       "      <td>3.5</td>\n",
       "      <td>164.99</td>\n",
       "      <td>77.18</td>\n",
       "      <td>172.75</td>\n",
       "      <td>4.8</td>\n",
       "    </tr>\n",
       "    <tr>\n",
       "      <th>4</th>\n",
       "      <td>38.7963</td>\n",
       "      <td>-122.7787</td>\n",
       "      <td>1.5</td>\n",
       "      <td>52.07</td>\n",
       "      <td>65.00</td>\n",
       "      <td>-46.29</td>\n",
       "      <td>4.6</td>\n",
       "    </tr>\n",
       "    <tr>\n",
       "      <th>5</th>\n",
       "      <td>38.8267</td>\n",
       "      <td>-122.8113</td>\n",
       "      <td>3.5</td>\n",
       "      <td>28.96</td>\n",
       "      <td>47.84</td>\n",
       "      <td>-91.79</td>\n",
       "      <td>3.9</td>\n",
       "    </tr>\n",
       "    <tr>\n",
       "      <th>6</th>\n",
       "      <td>38.8475</td>\n",
       "      <td>-122.7398</td>\n",
       "      <td>5.0</td>\n",
       "      <td>18.77</td>\n",
       "      <td>38.76</td>\n",
       "      <td>-130.88</td>\n",
       "      <td>4.6</td>\n",
       "    </tr>\n",
       "    <tr>\n",
       "      <th>7</th>\n",
       "      <td>38.8352</td>\n",
       "      <td>-122.7982</td>\n",
       "      <td>8.0</td>\n",
       "      <td>51.70</td>\n",
       "      <td>55.17</td>\n",
       "      <td>-67.63</td>\n",
       "      <td>5.2</td>\n",
       "    </tr>\n",
       "    <tr>\n",
       "      <th>8</th>\n",
       "      <td>38.7395</td>\n",
       "      <td>-122.7742</td>\n",
       "      <td>5.0</td>\n",
       "      <td>230.95</td>\n",
       "      <td>52.95</td>\n",
       "      <td>-29.00</td>\n",
       "      <td>5.1</td>\n",
       "    </tr>\n",
       "    <tr>\n",
       "      <th>9</th>\n",
       "      <td>38.8338</td>\n",
       "      <td>-122.8067</td>\n",
       "      <td>3.5</td>\n",
       "      <td>51.60</td>\n",
       "      <td>53.79</td>\n",
       "      <td>-48.68</td>\n",
       "      <td>5.0</td>\n",
       "    </tr>\n",
       "    <tr>\n",
       "      <th>10</th>\n",
       "      <td>38.8393</td>\n",
       "      <td>-122.8227</td>\n",
       "      <td>3.5</td>\n",
       "      <td>20.88</td>\n",
       "      <td>48.60</td>\n",
       "      <td>-102.51</td>\n",
       "      <td>4.8</td>\n",
       "    </tr>\n",
       "  </tbody>\n",
       "</table>\n",
       "</div>"
      ],
      "text/plain": [
       "    latitude  longitude  depth  strike    dip    rake  magnitude\n",
       "0    38.8220  -122.8410    5.0  244.00  75.00   -7.00        4.0\n",
       "1    38.8200  -122.8600   12.0  247.00  65.00  -12.00        5.1\n",
       "2    38.8200  -122.8400   11.5  158.00  84.00  166.00        5.1\n",
       "3    38.7877  -122.7780    3.5  164.99  77.18  172.75        4.8\n",
       "4    38.7963  -122.7787    1.5   52.07  65.00  -46.29        4.6\n",
       "5    38.8267  -122.8113    3.5   28.96  47.84  -91.79        3.9\n",
       "6    38.8475  -122.7398    5.0   18.77  38.76 -130.88        4.6\n",
       "7    38.8352  -122.7982    8.0   51.70  55.17  -67.63        5.2\n",
       "8    38.7395  -122.7742    5.0  230.95  52.95  -29.00        5.1\n",
       "9    38.8338  -122.8067    3.5   51.60  53.79  -48.68        5.0\n",
       "10   38.8393  -122.8227    3.5   20.88  48.60 -102.51        4.8"
      ]
     },
     "execution_count": 4,
     "metadata": {},
     "output_type": "execute_result"
    }
   ],
   "source": [
    "fmpath = os.path.join(rep_data,\"fm\",\"fm.csv\")\n",
    "df = pd.read_csv(fmpath)\n",
    "df"
   ]
  },
  {
   "cell_type": "markdown",
   "metadata": {},
   "source": [
    "You can define how do you want to plot the FM object in your map. Take in mind the next tips:\n",
    "\n",
    " - BaseMeca helps us with this task, it receives some parameters of [pygmt.meca](https://www.pygmt.org/latest/api/generated/pygmt.Figure.meca.html)\n",
    "\n",
    "When we print the FM object, it shows us the number of mechanisms."
   ]
  },
  {
   "cell_type": "code",
   "execution_count": 5,
   "metadata": {},
   "outputs": [
    {
     "name": "stdout",
     "output_type": "stream",
     "text": [
      "Catalog | 11 focal mechanisms \n"
     ]
    }
   ],
   "source": [
    "basemeca = BaseMeca(scale=\"1.0c\",color=\"red\",cmap=False,\n",
    "                transparency=None)\n",
    "fm = FM(data=df,basemeca=basemeca)\n",
    "print(fm)"
   ]
  },
  {
   "cell_type": "markdown",
   "metadata": {},
   "source": [
    "Or you can print more detail information."
   ]
  },
  {
   "cell_type": "code",
   "execution_count": 6,
   "metadata": {},
   "outputs": [
    {
     "name": "stdout",
     "output_type": "stream",
     "text": [
      "Catalog | 11 focal mechanisms \n",
      "\tdepth : [1.5, 12.0]\n",
      "\tmagnitude : [3.9, 5.2]\n",
      "\tregion: [-122.86, -122.74, 38.74, 38.85]\n"
     ]
    }
   ],
   "source": [
    "print(fm.__str__(True))"
   ]
  },
  {
   "cell_type": "markdown",
   "metadata": {},
   "source": [
    "There are some util functions. For instance, sort values by features specified in the dataframe."
   ]
  },
  {
   "cell_type": "code",
   "execution_count": 8,
   "metadata": {},
   "outputs": [
    {
     "name": "stdout",
     "output_type": "stream",
     "text": [
      "    latitude  longitude  depth  strike    dip    rake  magnitude\n",
      "0    38.8267  -122.8113    3.5   28.96  47.84  -91.79        3.9\n",
      "1    38.8220  -122.8410    5.0  244.00  75.00   -7.00        4.0\n",
      "2    38.7963  -122.7787    1.5   52.07  65.00  -46.29        4.6\n",
      "3    38.8475  -122.7398    5.0   18.77  38.76 -130.88        4.6\n",
      "4    38.7877  -122.7780    3.5  164.99  77.18  172.75        4.8\n",
      "5    38.8393  -122.8227    3.5   20.88  48.60 -102.51        4.8\n",
      "6    38.8338  -122.8067    3.5   51.60  53.79  -48.68        5.0\n",
      "7    38.8200  -122.8600   12.0  247.00  65.00  -12.00        5.1\n",
      "8    38.8200  -122.8400   11.5  158.00  84.00  166.00        5.1\n",
      "9    38.7395  -122.7742    5.0  230.95  52.95  -29.00        5.1\n",
      "10   38.8352  -122.7982    8.0   51.70  55.17  -67.63        5.2\n"
     ]
    }
   ],
   "source": [
    "fm.sort_values(by=\"magnitude\",ignore_index=True)\n",
    "print(fm.data)"
   ]
  },
  {
   "cell_type": "markdown",
   "metadata": {},
   "source": [
    "Plot your FM object in a map."
   ]
  },
  {
   "cell_type": "code",
   "execution_count": 11,
   "metadata": {},
   "outputs": [
    {
     "data": {
      "image/png": "[encoded data removed]",
      "text/plain": [
       "<IPython.core.display.Image object>"
      ]
     },
     "metadata": {
      "image/png": {
       "width": 500
      }
     },
     "output_type": "display_data"
    }
   ],
   "source": [
    "fig = fm.plot_map()\n",
    "fig.basemap(map_scale=f\"jBL+o0.3c/0.7c+w{5}k+f+lkm+at\")\n",
    "fig.show()"
   ]
  },
  {
   "cell_type": "code",
   "execution_count": null,
   "metadata": {},
   "outputs": [],
   "source": []
  }
 ],
 "metadata": {
  "kernelspec": {
   "display_name": "Python 3.10.6 ('eqviewer')",
   "language": "python",
   "name": "python3"
  },
  "language_info": {
   "codemirror_mode": {
    "name": "ipython",
    "version": 3
   },
   "file_extension": ".py",
   "mimetype": "text/x-python",
   "name": "python",
   "nbconvert_exporter": "python",
   "pygments_lexer": "ipython3",
   "version": "3.10.6"
  },
  "orig_nbformat": 4,
  "vscode": {
   "interpreter": {
    "hash": "bc89492ebbf2b7bef37ed0fc2243d0ee3de1ff85ccdccf972c39a8f53da22d02"
   }
  }
 },
 "nbformat": 4,
 "nbformat_minor": 2
}
