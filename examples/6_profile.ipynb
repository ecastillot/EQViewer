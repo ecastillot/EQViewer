{
 "cells": [
  {
   "cell_type": "code",
   "execution_count": 1,
   "metadata": {},
   "outputs": [],
   "source": [
    "import os\n",
    "import sys\n",
    "\n",
    "repository_path = r\"/home/emmanuel/EQviewer\"  ##change this path where is located the main directory\n",
    "rep_data = os.path.join(\"..\",\"data\")\n",
    "rep_out = os.path.join(\"..\",\"outs\")\n",
    "sys.path.insert(0,repository_path)"
   ]
  },
  {
   "cell_type": "markdown",
   "metadata": {},
   "source": [
    "# Profile\n",
    "In this notebook, you will see some examples to manipulate the Profile object. You will learn to plot"
   ]
  },
  {
   "cell_type": "code",
   "execution_count": null,
   "metadata": {},
   "outputs": [],
   "source": []
  }
 ],
 "metadata": {
  "kernelspec": {
   "display_name": "Python 3.10.6 ('eqviewer')",
   "language": "python",
   "name": "python3"
  },
  "language_info": {
   "codemirror_mode": {
    "name": "ipython",
    "version": 3
   },
   "file_extension": ".py",
   "mimetype": "text/x-python",
   "name": "python",
   "nbconvert_exporter": "python",
   "pygments_lexer": "ipython3",
   "version": "3.10.6"
  },
  "orig_nbformat": 4,
  "vscode": {
   "interpreter": {
    "hash": "bc89492ebbf2b7bef37ed0fc2243d0ee3de1ff85ccdccf972c39a8f53da22d02"
   }
  }
 },
 "nbformat": 4,
 "nbformat_minor": 2
}
